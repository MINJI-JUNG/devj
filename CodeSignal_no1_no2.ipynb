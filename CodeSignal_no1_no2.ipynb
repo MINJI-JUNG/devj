{
 "cells": [
  {
   "cell_type": "markdown",
   "metadata": {},
   "source": [
    "# CodeSignal"
   ]
  },
  {
   "cell_type": "markdown",
   "metadata": {},
   "source": [
    "## 1. Write a function that returns the sum of two numbers.\n",
    "\n",
    "### Input/ Output\n",
    "* [execution time limit] 4 seconds (js)\n",
    "* [input] integer param1 :: Guaranteed constraints: -1000 ≤ param1 ≤ 1000.\n",
    "* [input] integer param2 :: Guaranteed constraints: -1000 ≤ param2 ≤ 1000.\n",
    "* [output] integer :: The sum of the two inputs.\n",
    "\n",
    "### 1.1 My Answer"
   ]
  },
  {
   "cell_type": "code",
   "execution_count": 144,
   "metadata": {},
   "outputs": [],
   "source": [
    "def add(param1, param2):\n",
    "    return param1 + param2"
   ]
  },
  {
   "cell_type": "code",
   "execution_count": 145,
   "metadata": {},
   "outputs": [
    {
     "data": {
      "text/plain": [
       "3"
      ]
     },
     "execution_count": 145,
     "metadata": {},
     "output_type": "execute_result"
    }
   ],
   "source": [
    "add(1, 2)"
   ]
  },
  {
   "cell_type": "markdown",
   "metadata": {},
   "source": [
    "## 2. Given a year, return the century it is in. The first century spans from the year 1 up to and including the year 100, the second - from the year 101 up to and including the year 200, etc.\n",
    "\n",
    "### Example\n",
    "* For year = 1905, the output should be centuryFromYear(year) = 20;\n",
    "* For year = 1700, the output should be centuryFromYear(year) = 17.\n",
    "\n",
    "### Input/Output\n",
    "* [input] integer year :: A positive integer, designating the year. 1≤year≤2005.\n",
    "* [output] integer :: The number of the century the year is in.\n",
    "\n",
    "### 2.1 My Answer"
   ]
  },
  {
   "cell_type": "code",
   "execution_count": 140,
   "metadata": {},
   "outputs": [],
   "source": [
    "import numpy\n",
    "\n",
    "def centuryFromYear(year):\n",
    "    max_century = 30\n",
    "    all_century = list(range(1, max_century+1))\n",
    "    all_year    = list(numpy.arange(0, (max_century+1)*100, 100))\n",
    "\n",
    "    loop = [x-1 for x in all_century]\n",
    "    \n",
    "    for i in loop:\n",
    "        if all_year[i] < year <= all_year[i+1]:\n",
    "            find_century = all_century[i]\n",
    "    return find_century"
   ]
  },
  {
   "cell_type": "code",
   "execution_count": 142,
   "metadata": {},
   "outputs": [
    {
     "data": {
      "text/plain": [
       "20"
      ]
     },
     "execution_count": 142,
     "metadata": {},
     "output_type": "execute_result"
    }
   ],
   "source": [
    "centuryFromYear(1905)"
   ]
  },
  {
   "cell_type": "code",
   "execution_count": 143,
   "metadata": {},
   "outputs": [
    {
     "data": {
      "text/plain": [
       "17"
      ]
     },
     "execution_count": 143,
     "metadata": {},
     "output_type": "execute_result"
    }
   ],
   "source": [
    "centuryFromYear(1700)"
   ]
  },
  {
   "cell_type": "markdown",
   "metadata": {},
   "source": [
    "### 2.2 Best Score"
   ]
  },
  {
   "cell_type": "code",
   "execution_count": 149,
   "metadata": {},
   "outputs": [],
   "source": [
    "def centuryFromYear(year):\n",
    "    return (year + 99) // 100"
   ]
  },
  {
   "cell_type": "code",
   "execution_count": 155,
   "metadata": {},
   "outputs": [
    {
     "data": {
      "text/plain": [
       "20"
      ]
     },
     "execution_count": 155,
     "metadata": {},
     "output_type": "execute_result"
    }
   ],
   "source": [
    "centuryFromYear(1905)"
   ]
  },
  {
   "cell_type": "markdown",
   "metadata": {},
   "source": [
    "* Python operator(파이썬 연산자)\n",
    "    * 선형 등식의 일반적인 형태 : a = q x d + r (q=몫, r=나머지)\n",
    "    * // quotient(몫) : 두 수를 나누었을 때, 나눗셈 결과의 정수 부분\n",
    "    * %  remainder(나머지) : 두 수를 나누었을 때, 나눠 떨어지지 않고 남은 부분(=잉여)\n",
    "    * 그래서 짝수, 홀수 구분할 때 '2로 나눈 뒤 나머지가 0인지 1인지'로 판단함"
   ]
  },
  {
   "cell_type": "code",
   "execution_count": 180,
   "metadata": {},
   "outputs": [
    {
     "name": "stdout",
     "output_type": "stream",
     "text": [
      "0.3333333333333333 0 2\n"
     ]
    }
   ],
   "source": [
    "print(2/6, 2//6, 2%6)"
   ]
  },
  {
   "cell_type": "code",
   "execution_count": 187,
   "metadata": {},
   "outputs": [
    {
     "name": "stdout",
     "output_type": "stream",
     "text": [
      "0 1\n"
     ]
    }
   ],
   "source": [
    "print(10%2, 11%2)"
   ]
  },
  {
   "cell_type": "code",
   "execution_count": null,
   "metadata": {},
   "outputs": [],
   "source": []
  }
 ],
 "metadata": {
  "kernelspec": {
   "display_name": "Python 3",
   "language": "python",
   "name": "python3"
  },
  "language_info": {
   "codemirror_mode": {
    "name": "ipython",
    "version": 3
   },
   "file_extension": ".py",
   "mimetype": "text/x-python",
   "name": "python",
   "nbconvert_exporter": "python",
   "pygments_lexer": "ipython3",
   "version": "3.7.3"
  }
 },
 "nbformat": 4,
 "nbformat_minor": 2
}
