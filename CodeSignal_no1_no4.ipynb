{
 "cells": [
  {
   "cell_type": "markdown",
   "metadata": {},
   "source": [
    "# CodeSignal"
   ]
  },
  {
   "cell_type": "markdown",
   "metadata": {},
   "source": [
    "## 1. Write a function that returns the sum of two numbers.\n",
    "\n",
    "### Input/ Output\n",
    "* [execution time limit] 4 seconds (js)\n",
    "* [input] integer param1 :: Guaranteed constraints: -1000 ≤ param1 ≤ 1000.\n",
    "* [input] integer param2 :: Guaranteed constraints: -1000 ≤ param2 ≤ 1000.\n",
    "* [output] integer :: The sum of the two inputs.\n",
    "\n",
    "### 1.1 My Answer"
   ]
  },
  {
   "cell_type": "code",
   "execution_count": 144,
   "metadata": {},
   "outputs": [],
   "source": [
    "def add(param1, param2):\n",
    "    return param1 + param2"
   ]
  },
  {
   "cell_type": "code",
   "execution_count": 145,
   "metadata": {},
   "outputs": [
    {
     "data": {
      "text/plain": [
       "3"
      ]
     },
     "execution_count": 145,
     "metadata": {},
     "output_type": "execute_result"
    }
   ],
   "source": [
    "add(1, 2)"
   ]
  },
  {
   "cell_type": "markdown",
   "metadata": {},
   "source": [
    "## 2. Given a year, return the century it is in. The first century spans from the year 1 up to and including the year 100, the second - from the year 101 up to and including the year 200, etc.\n",
    "\n",
    "### Example\n",
    "* For year = 1905, the output should be centuryFromYear(year) = 20;\n",
    "* For year = 1700, the output should be centuryFromYear(year) = 17.\n",
    "\n",
    "### Input/Output\n",
    "* [input] integer year :: A positive integer, designating the year. 1≤year≤2005.\n",
    "* [output] integer :: The number of the century the year is in.\n",
    "\n",
    "### 2.1 My Answer"
   ]
  },
  {
   "cell_type": "code",
   "execution_count": 140,
   "metadata": {},
   "outputs": [],
   "source": [
    "import numpy\n",
    "\n",
    "def centuryFromYear(year):\n",
    "    max_century = 30\n",
    "    all_century = list(range(1, max_century+1))\n",
    "    all_year    = list(numpy.arange(0, (max_century+1)*100, 100))\n",
    "\n",
    "    loop = [x-1 for x in all_century]\n",
    "    \n",
    "    for i in loop:\n",
    "        if all_year[i] < year <= all_year[i+1]:\n",
    "            find_century = all_century[i]\n",
    "    return find_century"
   ]
  },
  {
   "cell_type": "code",
   "execution_count": 142,
   "metadata": {},
   "outputs": [
    {
     "data": {
      "text/plain": [
       "20"
      ]
     },
     "execution_count": 142,
     "metadata": {},
     "output_type": "execute_result"
    }
   ],
   "source": [
    "centuryFromYear(1905)"
   ]
  },
  {
   "cell_type": "markdown",
   "metadata": {},
   "source": [
    "### 2.2 Best Score"
   ]
  },
  {
   "cell_type": "code",
   "execution_count": 149,
   "metadata": {},
   "outputs": [],
   "source": [
    "def centuryFromYear(year):\n",
    "    return (year + 99) // 100"
   ]
  },
  {
   "cell_type": "code",
   "execution_count": 155,
   "metadata": {},
   "outputs": [
    {
     "data": {
      "text/plain": [
       "20"
      ]
     },
     "execution_count": 155,
     "metadata": {},
     "output_type": "execute_result"
    }
   ],
   "source": [
    "centuryFromYear(1905)"
   ]
  },
  {
   "cell_type": "markdown",
   "metadata": {},
   "source": [
    "* Python operator(파이썬 연산자)\n",
    "    * 선형 등식의 일반적인 형태 : a = q x d + r (q=몫, r=나머지)\n",
    "    * // quotient(몫) : 두 수를 나누었을 때, 나눗셈 결과의 정수 부분\n",
    "    * %  remainder(나머지) : 두 수를 나누었을 때, 나눠 떨어지지 않고 남은 부분(=잉여)\n",
    "    * 그래서 짝수, 홀수 구분할 때 '2로 나눈 뒤 나머지가 0인지 1인지'로 판단함"
   ]
  },
  {
   "cell_type": "code",
   "execution_count": 180,
   "metadata": {},
   "outputs": [
    {
     "name": "stdout",
     "output_type": "stream",
     "text": [
      "0.3333333333333333 0 2\n"
     ]
    }
   ],
   "source": [
    "print(2/6, 2//6, 2%6)"
   ]
  },
  {
   "cell_type": "code",
   "execution_count": 1,
   "metadata": {
    "scrolled": true
   },
   "outputs": [
    {
     "name": "stdout",
     "output_type": "stream",
     "text": [
      "0 1\n"
     ]
    }
   ],
   "source": [
    "print(10%2, 11%2)"
   ]
  },
  {
   "cell_type": "markdown",
   "metadata": {},
   "source": [
    "## 3. Given the string, check if it is a palindrome.\n",
    "\n",
    "### Example\n",
    "* For inputString = \"aabaa\", the output should be checkPalindrome(inputString) = true;\n",
    "* For inputString = \"abac\", the output should be checkPalindrome(inputString) = false;\n",
    "* For inputString = \"a\", the output should be checkPalindrome(inputString) = true.\n",
    "\n",
    "### Input/Output\n",
    "* [input] A non-empty string consisting of lowercase characters.\n",
    "* [output] boolean\n",
    "\n",
    "### 3.1 My Answer"
   ]
  },
  {
   "cell_type": "code",
   "execution_count": 7,
   "metadata": {},
   "outputs": [],
   "source": [
    "def checkPalindrome(inputString):\n",
    "  num_char = len(inputString)\n",
    "  \n",
    "  if num_char%2 == 0:  # Even number\n",
    "    newchar = list(inputString)\n",
    "  else:  # Odd number: delete middle character\n",
    "    mid_char    = num_char//2\n",
    "    newchar     = list(inputString[:mid_char] + inputString[mid_char+1:])\n",
    "  \n",
    "  newchar_len = len(newchar)\n",
    "  check = []\n",
    "\n",
    "  for i in list(range(0,newchar_len)):\n",
    "    left_char  = newchar[i]\n",
    "    right_char = newchar[newchar_len-i-1]\n",
    "    # check a palindrome\n",
    "    if left_char != right_char:\n",
    "      check.append(False)\n",
    "      break\n",
    "    else:\n",
    "      check.append(True)\n",
    "      if i == (newchar_len/2)-1:\n",
    "        break\n",
    "\n",
    "  return(all(check))"
   ]
  },
  {
   "cell_type": "code",
   "execution_count": 6,
   "metadata": {},
   "outputs": [
    {
     "data": {
      "text/plain": [
       "True"
      ]
     },
     "execution_count": 6,
     "metadata": {},
     "output_type": "execute_result"
    }
   ],
   "source": [
    "checkPalindrome(\"hlbeeykoqqqqokyeeblh\")"
   ]
  },
  {
   "cell_type": "markdown",
   "metadata": {},
   "source": [
    "### 3.2 Best Score\n",
    "* 핵심: 생각의 전환!!.. 한 줄을 짜도 생각을 충분히한 뒤 코딩하자\n",
    "* 코딩: 중심을 기준으로 문자열의 좌우가 동일하다 => 문자열을 역으로 나열해도 동일한 값을 가진다"
   ]
  },
  {
   "cell_type": "code",
   "execution_count": 17,
   "metadata": {},
   "outputs": [
    {
     "name": "stdout",
     "output_type": "stream",
     "text": [
      "hlbeeykoqqqqokyeeblh\n"
     ]
    }
   ],
   "source": [
    "inputString = \"hlbeeykoqqqqokyeeblh\"\n",
    "print(inputString)"
   ]
  },
  {
   "cell_type": "code",
   "execution_count": 18,
   "metadata": {},
   "outputs": [
    {
     "data": {
      "text/plain": [
       "'hlbeeykoqqqqokyeeblh'"
      ]
     },
     "execution_count": 18,
     "metadata": {},
     "output_type": "execute_result"
    }
   ],
   "source": [
    "inputString[::-1]"
   ]
  },
  {
   "cell_type": "code",
   "execution_count": 19,
   "metadata": {},
   "outputs": [
    {
     "data": {
      "text/plain": [
       "True"
      ]
     },
     "execution_count": 19,
     "metadata": {},
     "output_type": "execute_result"
    }
   ],
   "source": [
    "def checkPalindrome(inputString):\n",
    "    return inputString == inputString[::-1]\n",
    "\n",
    "checkPalindrome(\"hlbeeykoqqqqokyeeblh\")"
   ]
  },
  {
   "cell_type": "markdown",
   "metadata": {},
   "source": [
    "* 문자열 출력 방법"
   ]
  },
  {
   "cell_type": "code",
   "execution_count": 80,
   "metadata": {},
   "outputs": [
    {
     "name": "stdout",
     "output_type": "stream",
     "text": [
      "abcd abcd dcba abcd\n",
      "bcd bd\n"
     ]
    }
   ],
   "source": [
    "print(\"abcd\"[:],    #모든 값 출력\n",
    "      \"abcd\"[::1],  #모든 값 순서대로 출력\n",
    "      \"abcd\"[::-1], #모든 값 역순으로 출력\n",
    "      \"abcd\"[::])   #마지막 1은 생략해도 됨\n",
    "print(\"abcdefg\"[1:4], #부분집합 출력\n",
    "      \"abcdefg\"[1:4:2]) #부분집합 출력 + 지정한 위치의 문자열 삭제"
   ]
  },
  {
   "cell_type": "markdown",
   "metadata": {},
   "source": [
    "## 4. Given an array of integers, find the pair of adjacent elements that has the largest product and return that product. \n",
    "* 인접한 두 정수의 곱 중에서 가장 큰 값을 리턴하라\n",
    "\n",
    "### Example\n",
    "* For inputArray = [3, 6, -2, -5, 7, 3], the output should be adjacentElementsProduct(inputArray) = 21.\n",
    "* 7 and 3 produce the largest product.\n",
    "\n",
    "### Input/Output\n",
    "* [input] 2 ≤ inputArray.length ≤ 10,  -1000 ≤ inputArray[i] ≤ 1000\n",
    "* [output] The largest product of adjacent elements.\n",
    "\n",
    "### 4.1 My Answer"
   ]
  },
  {
   "cell_type": "code",
   "execution_count": 2,
   "metadata": {},
   "outputs": [],
   "source": [
    "def adjacentElementsProduct(inputArray):\n",
    "    products = []\n",
    "    for i in range(1,len(inputArray)):\n",
    "        products.append(inputArray[i-1]*inputArray[i])\n",
    "    return(max(products))"
   ]
  },
  {
   "cell_type": "code",
   "execution_count": 3,
   "metadata": {},
   "outputs": [
    {
     "data": {
      "text/plain": [
       "21"
      ]
     },
     "execution_count": 3,
     "metadata": {},
     "output_type": "execute_result"
    }
   ],
   "source": [
    "inputArray = [3, 6, -2, -5, 7, 3]\n",
    "adjacentElementsProduct(inputArray)"
   ]
  },
  {
   "cell_type": "markdown",
   "metadata": {},
   "source": [
    "### 4.2.1 Best Score\n",
    "* append를 사용하지 않는다\n",
    "* for문 앞 뒤에 [] 기호를 입히면 결과가 리스트로 출력된다"
   ]
  },
  {
   "cell_type": "code",
   "execution_count": 22,
   "metadata": {},
   "outputs": [],
   "source": [
    "#inputArray[i] * inputArray[i+1] for i in range(len(inputArray)-1)  # Error"
   ]
  },
  {
   "cell_type": "code",
   "execution_count": 24,
   "metadata": {},
   "outputs": [
    {
     "data": {
      "text/plain": [
       "[18, -12, 10, -35, 21]"
      ]
     },
     "execution_count": 24,
     "metadata": {},
     "output_type": "execute_result"
    }
   ],
   "source": [
    "[inputArray[i] * inputArray[i+1] for i in range(len(inputArray)-1)]"
   ]
  },
  {
   "cell_type": "code",
   "execution_count": 25,
   "metadata": {},
   "outputs": [],
   "source": [
    "def adjacentElementsProduct(inputArray):\n",
    "    return(max([inputArray[i] * inputArray[i+1] for i in range(len(inputArray)-1)]))"
   ]
  },
  {
   "cell_type": "markdown",
   "metadata": {},
   "source": [
    "### 4.2.2 Best Score\n",
    "* 곱해줄 정수열 2개를 먼저 만들고, zip 함수를 이용해 Tuple로 묶어준다\n",
    "* for 문으로 곱해준 다음, 앞 뒤에 [] 기호를 입혀 결과를 리스트로 출력한다"
   ]
  },
  {
   "cell_type": "code",
   "execution_count": 30,
   "metadata": {},
   "outputs": [
    {
     "data": {
      "text/plain": [
       "[3, 6, -2, -5, 7]"
      ]
     },
     "execution_count": 30,
     "metadata": {},
     "output_type": "execute_result"
    }
   ],
   "source": [
    "inputArray[:-1]"
   ]
  },
  {
   "cell_type": "code",
   "execution_count": 31,
   "metadata": {},
   "outputs": [
    {
     "data": {
      "text/plain": [
       "[6, -2, -5, 7, 3]"
      ]
     },
     "execution_count": 31,
     "metadata": {},
     "output_type": "execute_result"
    }
   ],
   "source": [
    "inputArray[1:]"
   ]
  },
  {
   "cell_type": "code",
   "execution_count": 34,
   "metadata": {},
   "outputs": [
    {
     "data": {
      "text/plain": [
       "[(3, 6), (6, -2), (-2, -5), (-5, 7), (7, 3)]"
      ]
     },
     "execution_count": 34,
     "metadata": {},
     "output_type": "execute_result"
    }
   ],
   "source": [
    "list(zip(inputArray[:-1], inputArray[1:]))  # Tuple"
   ]
  },
  {
   "cell_type": "code",
   "execution_count": 37,
   "metadata": {},
   "outputs": [
    {
     "data": {
      "text/plain": [
       "[18, -12, 10, -35, 21]"
      ]
     },
     "execution_count": 37,
     "metadata": {},
     "output_type": "execute_result"
    }
   ],
   "source": [
    "[a * b for a, b in zip(inputArray[:-1], inputArray[1:])]"
   ]
  },
  {
   "cell_type": "code",
   "execution_count": 38,
   "metadata": {},
   "outputs": [],
   "source": [
    "def adjacentElementsProduct(inputArray):\n",
    "    return(max([a * b for a, b in zip(inputArray[:-1], inputArray[1:])]))"
   ]
  },
  {
   "cell_type": "code",
   "execution_count": null,
   "metadata": {},
   "outputs": [],
   "source": []
  },
  {
   "cell_type": "code",
   "execution_count": null,
   "metadata": {},
   "outputs": [],
   "source": []
  },
  {
   "cell_type": "code",
   "execution_count": null,
   "metadata": {},
   "outputs": [],
   "source": []
  },
  {
   "cell_type": "code",
   "execution_count": null,
   "metadata": {},
   "outputs": [],
   "source": []
  },
  {
   "cell_type": "code",
   "execution_count": null,
   "metadata": {},
   "outputs": [],
   "source": []
  },
  {
   "cell_type": "code",
   "execution_count": null,
   "metadata": {},
   "outputs": [],
   "source": []
  },
  {
   "cell_type": "code",
   "execution_count": null,
   "metadata": {},
   "outputs": [],
   "source": []
  },
  {
   "cell_type": "markdown",
   "metadata": {},
   "source": [
    "## 00. //\n",
    "\n",
    "### Example\n",
    "* //\n",
    "\n",
    "### Input/Output\n",
    "* [input] //\n",
    "* [output] //\n",
    "\n",
    "### 00.1 My Answer\n",
    "\n",
    "### 00.2 Best Score"
   ]
  }
 ],
 "metadata": {
  "kernelspec": {
   "display_name": "Python 3",
   "language": "python",
   "name": "python3"
  },
  "language_info": {
   "codemirror_mode": {
    "name": "ipython",
    "version": 3
   },
   "file_extension": ".py",
   "mimetype": "text/x-python",
   "name": "python",
   "nbconvert_exporter": "python",
   "pygments_lexer": "ipython3",
   "version": "3.7.4"
  }
 },
 "nbformat": 4,
 "nbformat_minor": 2
}
